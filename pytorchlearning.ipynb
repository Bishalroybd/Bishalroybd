{
  "nbformat": 4,
  "nbformat_minor": 0,
  "metadata": {
    "colab": {
      "provenance": [],
      "authorship_tag": "ABX9TyMM6DP4HLMRBVGBeWwxO6tM",
      "include_colab_link": true
    },
    "kernelspec": {
      "name": "python3",
      "display_name": "Python 3"
    },
    "language_info": {
      "name": "python"
    }
  },
  "cells": [
    {
      "cell_type": "markdown",
      "metadata": {
        "id": "view-in-github",
        "colab_type": "text"
      },
      "source": [
        "<a href=\"https://colab.research.google.com/github/Bishalroybd/Bishalroybd/blob/main/pytorchlearning.ipynb\" target=\"_parent\"><img src=\"https://colab.research.google.com/assets/colab-badge.svg\" alt=\"Open In Colab\"/></a>"
      ]
    },
    {
      "cell_type": "code",
      "source": [
        "import torch\n",
        "import numpy as np\n"
      ],
      "metadata": {
        "id": "bNt_WD2JDtBi"
      },
      "execution_count": null,
      "outputs": []
    },
    {
      "cell_type": "markdown",
      "source": [
        "lists\n"
      ],
      "metadata": {
        "id": "_2uhkyW9EDw2"
      }
    },
    {
      "cell_type": "code",
      "source": [
        "my_list = [1,2,3,4,5],[6,7,8,9,10]\n",
        "my_list"
      ],
      "metadata": {
        "colab": {
          "base_uri": "https://localhost:8080/"
        },
        "id": "Y-9RDIE9D2T-",
        "outputId": "21d6fece-9b53-4910-bd4b-ca135c1963d8"
      },
      "execution_count": null,
      "outputs": [
        {
          "output_type": "execute_result",
          "data": {
            "text/plain": [
              "([1, 2, 3, 4, 5], [6, 7, 8, 9, 10])"
            ]
          },
          "metadata": {},
          "execution_count": 8
        }
      ]
    },
    {
      "cell_type": "markdown",
      "source": [
        "numpy arrays"
      ],
      "metadata": {
        "id": "666p_7xqEc2y"
      }
    },
    {
      "cell_type": "code",
      "source": [
        "np1 =np.random.rand(3,4)\n",
        "np1"
      ],
      "metadata": {
        "colab": {
          "base_uri": "https://localhost:8080/"
        },
        "id": "UPrIUhDkEQxu",
        "outputId": "483c1e1f-2ec8-4977-9573-526059715519"
      },
      "execution_count": null,
      "outputs": [
        {
          "output_type": "execute_result",
          "data": {
            "text/plain": [
              "array([[0.52991542, 0.08265195, 0.71329371, 0.37290432],\n",
              "       [0.81535672, 0.33431138, 0.55832257, 0.14718268],\n",
              "       [0.5747956 , 0.80307302, 0.11367867, 0.22119001]])"
            ]
          },
          "metadata": {},
          "execution_count": 9
        }
      ]
    },
    {
      "cell_type": "code",
      "source": [
        "np1.dtype"
      ],
      "metadata": {
        "colab": {
          "base_uri": "https://localhost:8080/"
        },
        "id": "NC0zv22XE3ih",
        "outputId": "e0743f00-df38-4506-a409-fba34508d4d4"
      },
      "execution_count": null,
      "outputs": [
        {
          "output_type": "execute_result",
          "data": {
            "text/plain": [
              "dtype('float64')"
            ]
          },
          "metadata": {},
          "execution_count": 13
        }
      ]
    },
    {
      "cell_type": "markdown",
      "source": [
        "tensors"
      ],
      "metadata": {
        "id": "TuGu8UUeFK8u"
      }
    },
    {
      "cell_type": "code",
      "source": [
        "tensor_2d = torch.randn(3,4)\n",
        "tensor_2d\n"
      ],
      "metadata": {
        "colab": {
          "base_uri": "https://localhost:8080/"
        },
        "id": "2Qfr6glSE_dY",
        "outputId": "383602f6-3e3d-498f-d9bf-e34c6e6bfb50"
      },
      "execution_count": null,
      "outputs": [
        {
          "output_type": "execute_result",
          "data": {
            "text/plain": [
              "tensor([[ 0.0078, -0.4502,  1.2133, -0.3397],\n",
              "        [ 0.7417,  0.2426, -0.1751,  1.7627],\n",
              "        [-1.9632, -0.1890, -1.0265,  0.4459]])"
            ]
          },
          "metadata": {},
          "execution_count": 17
        }
      ]
    },
    {
      "cell_type": "code",
      "source": [
        "tensor_3d = torch.zeros(2,3,4)\n",
        "tensor_3d"
      ],
      "metadata": {
        "colab": {
          "base_uri": "https://localhost:8080/"
        },
        "id": "dmnaFIfhFlCQ",
        "outputId": "b6d6d942-6993-46e2-f14d-0affed3722d4"
      },
      "execution_count": null,
      "outputs": [
        {
          "output_type": "execute_result",
          "data": {
            "text/plain": [
              "tensor([[[0., 0., 0., 0.],\n",
              "         [0., 0., 0., 0.],\n",
              "         [0., 0., 0., 0.]],\n",
              "\n",
              "        [[0., 0., 0., 0.],\n",
              "         [0., 0., 0., 0.],\n",
              "         [0., 0., 0., 0.]]])"
            ]
          },
          "metadata": {},
          "execution_count": 18
        }
      ]
    },
    {
      "cell_type": "code",
      "source": [
        "# create tensor out of numpy arrays\n",
        "my_tensor = torch.tensor(np1)\n",
        "my_tensor\n"
      ],
      "metadata": {
        "colab": {
          "base_uri": "https://localhost:8080/"
        },
        "id": "rrRo2OozGNZ_",
        "outputId": "f0d413c8-a955-43fe-9946-173a44b61cea"
      },
      "execution_count": null,
      "outputs": [
        {
          "output_type": "execute_result",
          "data": {
            "text/plain": [
              "tensor([[0.5299, 0.0827, 0.7133, 0.3729],\n",
              "        [0.8154, 0.3343, 0.5583, 0.1472],\n",
              "        [0.5748, 0.8031, 0.1137, 0.2212]], dtype=torch.float64)"
            ]
          },
          "metadata": {},
          "execution_count": 20
        }
      ]
    },
    {
      "cell_type": "code",
      "source": [],
      "metadata": {
        "id": "GoglhTkBWoor"
      },
      "execution_count": null,
      "outputs": []
    }
  ]
}